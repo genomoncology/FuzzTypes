{
 "cells": [
  {
   "cell_type": "markdown",
   "source": [
    "## Readme Code Examples\n",
    "These are the code examples from the Readme document."
   ],
   "metadata": {
    "collapsed": false
   },
   "id": "3542b4dbc383efb7"
  },
  {
   "cell_type": "code",
   "execution_count": 14,
   "outputs": [],
   "source": [
    "from pydantic import BaseModel\n",
    "\n",
    "class Normal(BaseModel):\n",
    "    boolean: bool\n",
    "    float: float\n",
    "    integer: int\n",
    "    \n",
    "obj = Normal(\n",
    "    boolean='yes',\n",
    "    float='2',\n",
    "    integer='3',\n",
    ")\n",
    "assert obj.boolean is True\n",
    "assert obj.float == 2.0\n",
    "assert obj.integer == 3"
   ],
   "metadata": {
    "collapsed": false,
    "ExecuteTime": {
     "end_time": "2024-03-19T16:35:29.171400Z",
     "start_time": "2024-03-19T16:35:29.169287Z"
    }
   },
   "id": "55243aba75d3e44d"
  },
  {
   "cell_type": "code",
   "execution_count": 15,
   "outputs": [
    {
     "name": "stdout",
     "output_type": "stream",
     "text": [
      "{\n",
      "    \"ascii\": \"anthropos\",\n",
      "    \"email\": \"jdoe@example.com\",\n",
      "    \"emoji\": \"💭\",\n",
      "    \"handle\": \"@imaurer\",\n",
      "    \"integer\": 55,\n",
      "    \"inventor\": \"Ada Lovelace\",\n",
      "    \"person\": {\n",
      "        \"name_format\": \"{title} {first} {middle} {last} {suffix} ({nickname})\",\n",
      "        \"init_format\": \"{first} {middle} {last}\",\n",
      "        \"title\": \"Mr.\",\n",
      "        \"first\": \"Arthur\",\n",
      "        \"middle\": \"Herbert\",\n",
      "        \"last\": \"Fonzarelli\",\n",
      "        \"suffix\": \"\",\n",
      "        \"nickname\": \"fonzie\"\n",
      "    },\n",
      "    \"time\": \"2025-01-01T05:00:00\",\n",
      "    \"zipcode\": \"12345-6789\"\n",
      "}\n"
     ]
    }
   ],
   "source": [
    "from pydantic import BaseModel\n",
    "from fuzztypes import (\n",
    "    ASCII,\n",
    "    Datetime,\n",
    "    Email,\n",
    "    Fuzzmoji,\n",
    "    InMemory,\n",
    "    Integer,\n",
    "    Person,\n",
    "    Regex,\n",
    "    ZipCode,\n",
    "    flags,\n",
    ")\n",
    "\n",
    "# define a source, see EntitySource for using TSV, CSV, JSONL\n",
    "inventors = [\"Ada Lovelace\", \"Alan Turing\", \"Claude Shannon\"]\n",
    "\n",
    "# define a named entity type in memory. use OnDisk for larger data sets.\n",
    "Inventor = InMemory(inventors, search_flag=flags.FuzzSearch)\n",
    "\n",
    "# custom Regex type for finding twitter handles.\n",
    "Handle =  Regex(r'@\\w{1,15}', examples=[\"@genomoncology\"])\n",
    "\n",
    "# define a Pydantic class with 9 fuzzy type attriubutes\n",
    "class Fuzzy(BaseModel):\n",
    "    ascii: ASCII\n",
    "    email: Email\n",
    "    emoji: Fuzzmoji\n",
    "    handle: Handle\n",
    "    integer: Integer\n",
    "    inventor: Inventor\n",
    "    person: Person\n",
    "    time: Datetime\n",
    "    zipcode: ZipCode\n",
    "\n",
    "# create an instance of class Fuzzy\n",
    "obj = Fuzzy(\n",
    "    ascii=\"άνθρωπος\",\n",
    "    email=\"John Doe <jdoe@example.com>\",\n",
    "    emoji='thought bubble',\n",
    "    handle='Ian Maurer (@imaurer)',\n",
    "    integer='fifty-five',\n",
    "    inventor='ada luvlace',\n",
    "    person='mr. arthur herbert fonzarelli (fonzie)',\n",
    "    time='5am on Jan 1, 2025',\n",
    "    zipcode=\"(Zipcode: 12345-6789)\",\n",
    ")\n",
    "\n",
    "# test the autocorrecting performed\n",
    "\n",
    "# greek for man: https://en.wiktionary.org/wiki/άνθρωπος\n",
    "assert obj.ascii == \"anthropos\"\n",
    "\n",
    "# extract email via regular expression\n",
    "assert obj.email == \"jdoe@example.com\"\n",
    "\n",
    "# fuzzy match \"thought bubble\" to \"thought balloon\" emoji\n",
    "assert obj.emoji == \"💭\"\n",
    "\n",
    "# simple, inline regex example (see above Handle type)\n",
    "assert obj.handle == \"@imaurer\"\n",
    "\n",
    "# convert integer word phrase to integer value\n",
    "assert obj.integer == 55\n",
    "\n",
    "# case-insensitive fuzzy match on lowercase, misspelled name\n",
    "assert obj.inventor == \"Ada Lovelace\"\n",
    "\n",
    "# human name parser (title, first, middle, last, suffix, nickname)\n",
    "assert str(obj.person) == 'Mr. Arthur Herbert Fonzarelli (fonzie)'\n",
    "assert obj.person.short_name == \"Arthur Fonzarelli\"\n",
    "assert obj.person.nickname == \"fonzie\"\n",
    "assert obj.person.last == \"Fonzarelli\"\n",
    "\n",
    "# convert time phrase to datetime object\n",
    "assert obj.time.isoformat() == \"2025-01-01T05:00:00\"\n",
    "\n",
    "# extract zip5 or zip9 formats using regular expressions\n",
    "assert obj.zipcode == \"12345-6789\"\n",
    "\n",
    "# print JSON on success\n",
    "print(obj.model_dump_json(indent=4))"
   ],
   "metadata": {
    "collapsed": false,
    "ExecuteTime": {
     "end_time": "2024-03-19T16:35:51.056350Z",
     "start_time": "2024-03-19T16:35:50.994941Z"
    }
   },
   "id": "6c30a7cafa50364e"
  },
  {
   "cell_type": "code",
   "execution_count": null,
   "outputs": [],
   "source": [],
   "metadata": {
    "collapsed": false
   },
   "id": "b3b7c2fac600ccd8"
  }
 ],
 "metadata": {
  "kernelspec": {
   "display_name": "Python 3",
   "language": "python",
   "name": "python3"
  },
  "language_info": {
   "codemirror_mode": {
    "name": "ipython",
    "version": 2
   },
   "file_extension": ".py",
   "mimetype": "text/x-python",
   "name": "python",
   "nbconvert_exporter": "python",
   "pygments_lexer": "ipython2",
   "version": "2.7.6"
  }
 },
 "nbformat": 4,
 "nbformat_minor": 5
}
